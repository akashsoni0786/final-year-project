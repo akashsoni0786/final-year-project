{
 "cells": [
  {
   "cell_type": "markdown",
   "metadata": {
    "colab_type": "text",
    "id": "uCJkYP07evi8"
   },
   "source": [
    "## Importing Libraries"
   ]
  },
  {
   "cell_type": "code",
   "execution_count": 1,
   "metadata": {
    "colab": {
     "base_uri": "https://localhost:8080/",
     "height": 79
    },
    "colab_type": "code",
    "id": "cVGfYBcXevi9",
    "outputId": "055ccd69-0bf2-43d3-cc20-58377bdd1b01"
   },
   "outputs": [
    {
     "name": "stderr",
     "output_type": "stream",
     "text": [
      "Using TensorFlow backend.\n"
     ]
    },
    {
     "data": {
      "text/html": [
       "<p style=\"color: red;\">\n",
       "The default version of TensorFlow in Colab will soon switch to TensorFlow 2.x.<br>\n",
       "We recommend you <a href=\"https://www.tensorflow.org/guide/migrate\" target=\"_blank\">upgrade</a> now \n",
       "or ensure your notebook will continue to use TensorFlow 1.x via the <code>%tensorflow_version 1.x</code> magic:\n",
       "<a href=\"https://colab.research.google.com/notebooks/tensorflow_version.ipynb\" target=\"_blank\">more info</a>.</p>\n"
      ],
      "text/plain": [
       "<IPython.core.display.HTML object>"
      ]
     },
     "metadata": {
      "tags": []
     },
     "output_type": "display_data"
    }
   ],
   "source": [
    "import pandas as pd\n",
    "import numpy as np\n",
    "from sklearn.preprocessing import MinMaxScaler\n",
    "from matplotlib import pyplot as plt\n",
    "plt.style.use(\"ggplot\")\n",
    "\n",
    "from keras.layers import Dense, Activation, Dropout, LSTM\n",
    "from keras.models import Sequential\n",
    "from datetime import datetime, timedelta"
   ]
  },
  {
   "cell_type": "markdown",
   "metadata": {
    "colab_type": "text",
    "id": "GaeaJ4O9evjB"
   },
   "source": [
    "### Loading the data"
   ]
  },
  {
   "cell_type": "code",
   "execution_count": 2,
   "metadata": {
    "colab": {
     "base_uri": "https://localhost:8080/",
     "height": 190
    },
    "colab_type": "code",
    "id": "_J1plnuievjC",
    "outputId": "0d4f63df-66aa-41c7-a93c-72dc579afda2"
   },
   "outputs": [
    {
     "data": {
      "text/html": [
       "<div>\n",
       "<style scoped>\n",
       "    .dataframe tbody tr th:only-of-type {\n",
       "        vertical-align: middle;\n",
       "    }\n",
       "\n",
       "    .dataframe tbody tr th {\n",
       "        vertical-align: top;\n",
       "    }\n",
       "\n",
       "    .dataframe thead th {\n",
       "        text-align: right;\n",
       "    }\n",
       "</style>\n",
       "<table border=\"1\" class=\"dataframe\">\n",
       "  <thead>\n",
       "    <tr style=\"text-align: right;\">\n",
       "      <th></th>\n",
       "      <th>Date</th>\n",
       "      <th>Open</th>\n",
       "      <th>High</th>\n",
       "      <th>Low</th>\n",
       "      <th>Close</th>\n",
       "      <th>Adj Close</th>\n",
       "      <th>Volume</th>\n",
       "    </tr>\n",
       "  </thead>\n",
       "  <tbody>\n",
       "    <tr>\n",
       "      <th>0</th>\n",
       "      <td>2014-09-17</td>\n",
       "      <td>465.864014</td>\n",
       "      <td>468.174011</td>\n",
       "      <td>452.421997</td>\n",
       "      <td>457.334015</td>\n",
       "      <td>457.334015</td>\n",
       "      <td>21056800</td>\n",
       "    </tr>\n",
       "    <tr>\n",
       "      <th>1</th>\n",
       "      <td>2014-09-18</td>\n",
       "      <td>456.859985</td>\n",
       "      <td>456.859985</td>\n",
       "      <td>413.104004</td>\n",
       "      <td>424.440002</td>\n",
       "      <td>424.440002</td>\n",
       "      <td>34483200</td>\n",
       "    </tr>\n",
       "    <tr>\n",
       "      <th>2</th>\n",
       "      <td>2014-09-19</td>\n",
       "      <td>424.102997</td>\n",
       "      <td>427.834991</td>\n",
       "      <td>384.532013</td>\n",
       "      <td>394.795990</td>\n",
       "      <td>394.795990</td>\n",
       "      <td>37919700</td>\n",
       "    </tr>\n",
       "    <tr>\n",
       "      <th>3</th>\n",
       "      <td>2014-09-20</td>\n",
       "      <td>394.673004</td>\n",
       "      <td>423.295990</td>\n",
       "      <td>389.882996</td>\n",
       "      <td>408.903992</td>\n",
       "      <td>408.903992</td>\n",
       "      <td>36863600</td>\n",
       "    </tr>\n",
       "    <tr>\n",
       "      <th>4</th>\n",
       "      <td>2014-09-21</td>\n",
       "      <td>408.084991</td>\n",
       "      <td>412.425995</td>\n",
       "      <td>393.181000</td>\n",
       "      <td>398.821014</td>\n",
       "      <td>398.821014</td>\n",
       "      <td>26580100</td>\n",
       "    </tr>\n",
       "  </tbody>\n",
       "</table>\n",
       "</div>"
      ],
      "text/plain": [
       "         Date        Open        High  ...       Close   Adj Close    Volume\n",
       "0  2014-09-17  465.864014  468.174011  ...  457.334015  457.334015  21056800\n",
       "1  2014-09-18  456.859985  456.859985  ...  424.440002  424.440002  34483200\n",
       "2  2014-09-19  424.102997  427.834991  ...  394.795990  394.795990  37919700\n",
       "3  2014-09-20  394.673004  423.295990  ...  408.903992  408.903992  36863600\n",
       "4  2014-09-21  408.084991  412.425995  ...  398.821014  398.821014  26580100\n",
       "\n",
       "[5 rows x 7 columns]"
      ]
     },
     "execution_count": 2,
     "metadata": {
      "tags": []
     },
     "output_type": "execute_result"
    }
   ],
   "source": [
    "df=pd.read_csv('BTC-USD.csv')\n",
    "df.head()"
   ]
  },
  {
   "cell_type": "markdown",
   "metadata": {
    "colab_type": "text",
    "id": "oEJ1VmJ7evjG"
   },
   "source": [
    "Extract Close value as our target, the only variable here is date, since it's a Time Series Forecasting problem.\n",
    "There is no null value and the values are continious, even on weekends, there is no missing value, so we don't need to do much feature engineering or EDA, but we can still visualize it to see the trend within five years."
   ]
  },
  {
   "cell_type": "markdown",
   "metadata": {
    "colab_type": "text",
    "id": "r5IX00dLevjH"
   },
   "source": [
    "## Data preprocessing"
   ]
  },
  {
   "cell_type": "code",
   "execution_count": 0,
   "metadata": {
    "colab": {},
    "colab_type": "code",
    "id": "0vlCg-asevjI"
   },
   "outputs": [],
   "source": [
    "# Setting the datetime index as the date, only selecting the 'Close' column, then only the last 1000 closing prices.\n",
    "df = df.set_index(\"Date\")[['Close']].tail(1000)\n",
    "df = df.set_index(pd.to_datetime(df.index))\n",
    "\n",
    "# Normalizing/Scaling the Data\n",
    "sc = MinMaxScaler()\n",
    "df = pd.DataFrame(sc.fit_transform(df), columns=df.columns, index=df.index)"
   ]
  },
  {
   "cell_type": "code",
   "execution_count": 4,
   "metadata": {
    "colab": {
     "base_uri": "https://localhost:8080/",
     "height": 219
    },
    "colab_type": "code",
    "id": "afcM2CgqevjL",
    "outputId": "43704492-324a-4603-dbd7-daf118d18a6e"
   },
   "outputs": [
    {
     "data": {
      "text/html": [
       "<div>\n",
       "<style scoped>\n",
       "    .dataframe tbody tr th:only-of-type {\n",
       "        vertical-align: middle;\n",
       "    }\n",
       "\n",
       "    .dataframe tbody tr th {\n",
       "        vertical-align: top;\n",
       "    }\n",
       "\n",
       "    .dataframe thead th {\n",
       "        text-align: right;\n",
       "    }\n",
       "</style>\n",
       "<table border=\"1\" class=\"dataframe\">\n",
       "  <thead>\n",
       "    <tr style=\"text-align: right;\">\n",
       "      <th></th>\n",
       "      <th>Close</th>\n",
       "    </tr>\n",
       "    <tr>\n",
       "      <th>Date</th>\n",
       "      <th></th>\n",
       "    </tr>\n",
       "  </thead>\n",
       "  <tbody>\n",
       "    <tr>\n",
       "      <th>2017-03-08</th>\n",
       "      <td>0.011448</td>\n",
       "    </tr>\n",
       "    <tr>\n",
       "      <th>2017-03-09</th>\n",
       "      <td>0.013522</td>\n",
       "    </tr>\n",
       "    <tr>\n",
       "      <th>2017-03-10</th>\n",
       "      <td>0.009655</td>\n",
       "    </tr>\n",
       "    <tr>\n",
       "      <th>2017-03-11</th>\n",
       "      <td>0.012840</td>\n",
       "    </tr>\n",
       "    <tr>\n",
       "      <th>2017-03-12</th>\n",
       "      <td>0.015294</td>\n",
       "    </tr>\n",
       "  </tbody>\n",
       "</table>\n",
       "</div>"
      ],
      "text/plain": [
       "               Close\n",
       "Date                \n",
       "2017-03-08  0.011448\n",
       "2017-03-09  0.013522\n",
       "2017-03-10  0.009655\n",
       "2017-03-11  0.012840\n",
       "2017-03-12  0.015294"
      ]
     },
     "execution_count": 4,
     "metadata": {
      "tags": []
     },
     "output_type": "execute_result"
    }
   ],
   "source": [
    "df.head()"
   ]
  },
  {
   "cell_type": "code",
   "execution_count": 5,
   "metadata": {
    "colab": {
     "base_uri": "https://localhost:8080/",
     "height": 420
    },
    "colab_type": "code",
    "id": "7JzBC62yevjR",
    "outputId": "08512c71-53b7-48fe-ab0b-464929b9ec78"
   },
   "outputs": [
    {
     "data": {
      "image/png": "[encoded data removed]",
      "text/plain": [
       "<Figure size 720x432 with 1 Axes>"
      ]
     },
     "metadata": {
      "tags": []
     },
     "output_type": "display_data"
    }
   ],
   "source": [
    "# Visualization for the scaled closing price\n",
    "df.plot(figsize=(10,6))\n",
    "plt.title('Bitcoin closing prices')\n",
    "plt.ylabel('Nomalized Price')\n",
    "plt.show()"
   ]
  },
  {
   "cell_type": "markdown",
   "metadata": {
    "colab_type": "text",
    "id": "02CpWRt0evjV"
   },
   "source": [
    "---\n",
    "## Prepare functions for the model\n",
    "---"
   ]
  },
  {
   "cell_type": "code",
   "execution_count": 0,
   "metadata": {
    "colab": {},
    "colab_type": "code",
    "id": "X7SgTUo5evjX"
   },
   "outputs": [],
   "source": [
    "# Split the univariate time sequence\n",
    "def split_sequence(seq, n_step_in, n_step_out):\n",
    "    x, y=[],[]\n",
    "    for i in range(len(seq)):\n",
    "        end = i+n_step_in\n",
    "        out_end= end+n_step_out\n",
    "        \n",
    "        if out_end>len(seq):\n",
    "            break\n",
    "        seq_x, seq_y = seq[i:end], seq[end:out_end]\n",
    "        x.append(seq_x)\n",
    "        y.append(seq_y)\n",
    "        \n",
    "    return np.array(x), np.array(y)"
   ]
  },
  {
   "cell_type": "code",
   "execution_count": 0,
   "metadata": {
    "colab": {},
    "colab_type": "code",
    "id": "0lZ7zgx-evja"
   },
   "outputs": [],
   "source": [
    "# Plot the loss and accuracy for the training and testing data\n",
    "def visualize_training_results(results):\n",
    "    history= results.history\n",
    "    plt.figure(figsize=(12,4))\n",
    "    plt.plot(history['val_loss'])\n",
    "    plt.plot(history['loss'])\n",
    "    plt.legend(['val_loss','loss'])\n",
    "    plt.title('Loss')\n",
    "    plt.xlabel('Epochs')\n",
    "    plt.ylabel('Loss')\n",
    "    plt.show()\n",
    "    \n",
    "    plt.figure(figsize=(12,4))\n",
    "    plt.plot(history['val_accuracy'])\n",
    "    plt.plot(history['accuracy'])\n",
    "    plt.legend(['val_accuracy','accuracy'])\n",
    "    plt.title('Accuracy')\n",
    "    plt.xlabel('Epochs')\n",
    "    plt.ylabel('Accuracy')\n",
    "    plt.show()"
   ]
  },
  {
   "cell_type": "code",
   "execution_count": 0,
   "metadata": {
    "colab": {},
    "colab_type": "code",
    "id": "cbscwSMZevjd"
   },
   "outputs": [],
   "source": [
    "# Create the model archetecture\n",
    "def layer_maker(n_layers,n_nodes, drop=None):\n",
    "    for x in range(1, n_layers+1):\n",
    "        model.add(LSTM(n_nodes, activation= 'relu', return_sequences= True))\n",
    "        model.add(Dropout(.2)) "
   ]
  },
  {
   "cell_type": "markdown",
   "metadata": {
    "colab_type": "text",
    "id": "gya9RunBevjh"
   },
   "source": [
    "### Split the data\n",
    "\n",
    "We look back 30 days price history to predict the next 10 days, in this way, for each day of the 1000+ days in our dataset, the previous 30 days are used to determine any patterns or sequences that lead to the next 10 days."
   ]
  },
  {
   "cell_type": "code",
   "execution_count": 0,
   "metadata": {
    "colab": {},
    "colab_type": "code",
    "id": "jv5ujZo5evjj"
   },
   "outputs": [],
   "source": [
    "# The periods look back to learn\n",
    "look_back=30\n",
    "\n",
    "# Predict period\n",
    "look_forward=20\n",
    "\n",
    "# Features (\"Price\" in this case)\n",
    "n_features=1\n",
    "\n",
    "# Split the data into proper sequences\n",
    "x,y=split_sequence(list(df.Close),look_back,look_forward)\n",
    "\n",
    "# Reshaping the x variable from 2D to 3D\n",
    "x=x.reshape((x.shape[0],x.shape[1],n_features))"
   ]
  },
  {
   "cell_type": "markdown",
   "metadata": {
    "colab_type": "text",
    "id": "o-v5xLM5evjm"
   },
   "source": [
    "## Modeling-LSTM"
   ]
  },
  {
   "cell_type": "code",
   "execution_count": 11,
   "metadata": {
    "colab": {
     "base_uri": "https://localhost:8080/",
     "height": 840
    },
    "colab_type": "code",
    "id": "I1iEjJcDevjn",
    "outputId": "c9898da6-4de3-4f6f-ac6d-b13a11f37116"
   },
   "outputs": [
    {
     "name": "stdout",
     "output_type": "stream",
     "text": [
      "WARNING:tensorflow:From /usr/local/lib/python3.6/dist-packages/keras/backend/tensorflow_backend.py:66: The name tf.get_default_graph is deprecated. Please use tf.compat.v1.get_default_graph instead.\n",
      "\n",
      "WARNING:tensorflow:From /usr/local/lib/python3.6/dist-packages/keras/backend/tensorflow_backend.py:541: The name tf.placeholder is deprecated. Please use tf.compat.v1.placeholder instead.\n",
      "\n",
      "WARNING:tensorflow:From /usr/local/lib/python3.6/dist-packages/keras/backend/tensorflow_backend.py:4432: The name tf.random_uniform is deprecated. Please use tf.random.uniform instead.\n",
      "\n",
      "WARNING:tensorflow:From /usr/local/lib/python3.6/dist-packages/keras/backend/tensorflow_backend.py:148: The name tf.placeholder_with_default is deprecated. Please use tf.compat.v1.placeholder_with_default instead.\n",
      "\n",
      "WARNING:tensorflow:From /usr/local/lib/python3.6/dist-packages/keras/backend/tensorflow_backend.py:3733: calling dropout (from tensorflow.python.ops.nn_ops) with keep_prob is deprecated and will be removed in a future version.\n",
      "Instructions for updating:\n",
      "Please use `rate` instead of `keep_prob`. Rate should be set to `rate = 1 - keep_prob`.\n",
      "Model: \"sequential_1\"\n",
      "_________________________________________________________________\n",
      "Layer (type)                 Output Shape              Param #   \n",
      "=================================================================\n",
      "lstm_1 (LSTM)                (None, 30, 30)            3840      \n",
      "_________________________________________________________________\n",
      "lstm_2 (LSTM)                (None, 30, 12)            2064      \n",
      "_________________________________________________________________\n",
      "dropout_1 (Dropout)          (None, 30, 12)            0         \n",
      "_________________________________________________________________\n",
      "lstm_3 (LSTM)                (None, 30, 12)            1200      \n",
      "_________________________________________________________________\n",
      "dropout_2 (Dropout)          (None, 30, 12)            0         \n",
      "_________________________________________________________________\n",
      "lstm_4 (LSTM)                (None, 30, 12)            1200      \n",
      "_________________________________________________________________\n",
      "dropout_3 (Dropout)          (None, 30, 12)            0         \n",
      "_________________________________________________________________\n",
      "lstm_5 (LSTM)                (None, 30, 12)            1200      \n",
      "_________________________________________________________________\n",
      "dropout_4 (Dropout)          (None, 30, 12)            0         \n",
      "_________________________________________________________________\n",
      "lstm_6 (LSTM)                (None, 30, 12)            1200      \n",
      "_________________________________________________________________\n",
      "dropout_5 (Dropout)          (None, 30, 12)            0         \n",
      "_________________________________________________________________\n",
      "lstm_7 (LSTM)                (None, 30, 12)            1200      \n",
      "_________________________________________________________________\n",
      "dropout_6 (Dropout)          (None, 30, 12)            0         \n",
      "_________________________________________________________________\n",
      "lstm_8 (LSTM)                (None, 10)                920       \n",
      "_________________________________________________________________\n",
      "dense_1 (Dense)              (None, 20)                220       \n",
      "=================================================================\n",
      "Total params: 13,044\n",
      "Trainable params: 13,044\n",
      "Non-trainable params: 0\n",
      "_________________________________________________________________\n"
     ]
    }
   ],
   "source": [
    "# Instantiating the model\n",
    "model=Sequential()\n",
    "\n",
    "# Input layer\n",
    "model.add(LSTM(30, activation='relu',return_sequences=True,input_shape=(look_back, n_features)))\n",
    "\n",
    "# Hidden layers\n",
    "layer_maker(n_layers=6, n_nodes=12)\n",
    "\n",
    "#Final hidden layer\n",
    "model.add(LSTM(10,activation='tanh'))\n",
    "\n",
    "# output layer\n",
    "model.add(Dense(look_forward))\n",
    "\n",
    "#Model summary\n",
    "model.summary()"
   ]
  },
  {
   "cell_type": "code",
   "execution_count": 0,
   "metadata": {
    "colab": {},
    "colab_type": "code",
    "id": "_c2au2JMevjr"
   },
   "outputs": [],
   "source": [
    "# Compiling the data with selected specifications\n",
    "model.compile(optimizer='adam', loss='mse', metrics=['accuracy'])"
   ]
  },
  {
   "cell_type": "code",
   "execution_count": 0,
   "metadata": {
    "colab": {},
    "colab_type": "code",
    "id": "rSD0leFgkGyi"
   },
   "outputs": [],
   "source": []
  },
  {
   "cell_type": "markdown",
   "metadata": {
    "colab_type": "text",
    "id": "oEzTVN3Aevjv"
   },
   "source": [
    "### Fitting and training the RNN"
   ]
  },
  {
   "cell_type": "code",
   "execution_count": 15,
   "metadata": {
    "colab": {
     "base_uri": "https://localhost:8080/",
     "height": 1000
    },
    "colab_type": "code",
    "id": "dItoLAqMevjw",
    "outputId": "3b4227ff-632e-41a1-9f51-b7eefa9a721c"
   },
   "outputs": [
    {
     "name": "stdout",
     "output_type": "stream",
     "text": [
      "WARNING:tensorflow:From /usr/local/lib/python3.6/dist-packages/tensorflow_core/python/ops/math_grad.py:1424: where (from tensorflow.python.ops.array_ops) is deprecated and will be removed in a future version.\n",
      "Instructions for updating:\n",
      "Use tf.where in 2.0, which has the same broadcast rule as np.where\n",
      "WARNING:tensorflow:From /usr/local/lib/python3.6/dist-packages/keras/backend/tensorflow_backend.py:1033: The name tf.assign_add is deprecated. Please use tf.compat.v1.assign_add instead.\n",
      "\n",
      "WARNING:tensorflow:From /usr/local/lib/python3.6/dist-packages/keras/backend/tensorflow_backend.py:1020: The name tf.assign is deprecated. Please use tf.compat.v1.assign instead.\n",
      "\n",
      "WARNING:tensorflow:From /usr/local/lib/python3.6/dist-packages/keras/backend/tensorflow_backend.py:3005: The name tf.Session is deprecated. Please use tf.compat.v1.Session instead.\n",
      "\n",
      "Train on 855 samples, validate on 96 samples\n",
      "Epoch 1/100\n",
      "WARNING:tensorflow:From /usr/local/lib/python3.6/dist-packages/keras/backend/tensorflow_backend.py:190: The name tf.get_default_session is deprecated. Please use tf.compat.v1.get_default_session instead.\n",
      "\n",
      "WARNING:tensorflow:From /usr/local/lib/python3.6/dist-packages/keras/backend/tensorflow_backend.py:197: The name tf.ConfigProto is deprecated. Please use tf.compat.v1.ConfigProto instead.\n",
      "\n",
      "WARNING:tensorflow:From /usr/local/lib/python3.6/dist-packages/keras/backend/tensorflow_backend.py:207: The name tf.global_variables is deprecated. Please use tf.compat.v1.global_variables instead.\n",
      "\n",
      "WARNING:tensorflow:From /usr/local/lib/python3.6/dist-packages/keras/backend/tensorflow_backend.py:216: The name tf.is_variable_initialized is deprecated. Please use tf.compat.v1.is_variable_initialized instead.\n",
      "\n",
      "WARNING:tensorflow:From /usr/local/lib/python3.6/dist-packages/keras/backend/tensorflow_backend.py:223: The name tf.variables_initializer is deprecated. Please use tf.compat.v1.variables_initializer instead.\n",
      "\n",
      "855/855 [==============================] - 11s 13ms/step - loss: 0.1154 - acc: 0.0351 - val_loss: 0.1516 - val_acc: 0.0312\n",
      "Epoch 2/100\n",
      "855/855 [==============================] - 4s 5ms/step - loss: 0.0752 - acc: 0.0386 - val_loss: 0.0654 - val_acc: 0.0104\n",
      "Epoch 3/100\n",
      "855/855 [==============================] - 4s 5ms/step - loss: 0.0392 - acc: 0.0433 - val_loss: 0.0193 - val_acc: 0.0104\n",
      "Epoch 4/100\n",
      "855/855 [==============================] - 4s 5ms/step - loss: 0.0202 - acc: 0.0538 - val_loss: 0.0061 - val_acc: 0.0104\n",
      "Epoch 5/100\n",
      "855/855 [==============================] - 4s 5ms/step - loss: 0.0148 - acc: 0.0713 - val_loss: 0.0034 - val_acc: 0.0312\n",
      "Epoch 6/100\n",
      "855/855 [==============================] - 4s 5ms/step - loss: 0.0142 - acc: 0.0573 - val_loss: 0.0033 - val_acc: 0.0312\n",
      "Epoch 7/100\n",
      "855/855 [==============================] - 4s 5ms/step - loss: 0.0137 - acc: 0.0526 - val_loss: 0.0037 - val_acc: 0.0938\n",
      "Epoch 8/100\n",
      "855/855 [==============================] - 4s 5ms/step - loss: 0.0132 - acc: 0.0585 - val_loss: 0.0029 - val_acc: 0.0417\n",
      "Epoch 9/100\n",
      "855/855 [==============================] - 4s 5ms/step - loss: 0.0128 - acc: 0.0386 - val_loss: 0.0029 - val_acc: 0.0729\n",
      "Epoch 10/100\n",
      "855/855 [==============================] - 4s 5ms/step - loss: 0.0126 - acc: 0.0480 - val_loss: 0.0023 - val_acc: 0.0521\n",
      "Epoch 11/100\n",
      "855/855 [==============================] - 4s 5ms/step - loss: 0.0125 - acc: 0.0620 - val_loss: 0.0032 - val_acc: 0.0312\n",
      "Epoch 12/100\n",
      "855/855 [==============================] - 4s 5ms/step - loss: 0.0125 - acc: 0.0585 - val_loss: 0.0025 - val_acc: 0.0417\n",
      "Epoch 13/100\n",
      "855/855 [==============================] - 4s 5ms/step - loss: 0.0124 - acc: 0.0538 - val_loss: 0.0038 - val_acc: 0.0521\n",
      "Epoch 14/100\n",
      "855/855 [==============================] - 4s 5ms/step - loss: 0.0121 - acc: 0.0643 - val_loss: 0.0023 - val_acc: 0.0521\n",
      "Epoch 15/100\n",
      "855/855 [==============================] - 4s 5ms/step - loss: 0.0121 - acc: 0.0678 - val_loss: 0.0023 - val_acc: 0.0938\n",
      "Epoch 16/100\n",
      "855/855 [==============================] - 4s 5ms/step - loss: 0.0114 - acc: 0.0515 - val_loss: 0.0023 - val_acc: 0.0312\n",
      "Epoch 17/100\n",
      "855/855 [==============================] - 4s 5ms/step - loss: 0.0116 - acc: 0.0632 - val_loss: 0.0031 - val_acc: 0.0312\n",
      "Epoch 18/100\n",
      "855/855 [==============================] - 4s 5ms/step - loss: 0.0115 - acc: 0.0596 - val_loss: 0.0023 - val_acc: 0.0312\n",
      "Epoch 19/100\n",
      "855/855 [==============================] - 4s 5ms/step - loss: 0.0104 - acc: 0.0690 - val_loss: 0.0026 - val_acc: 0.0521\n",
      "Epoch 20/100\n",
      "855/855 [==============================] - 4s 5ms/step - loss: 0.0105 - acc: 0.0632 - val_loss: 0.0026 - val_acc: 0.0312\n",
      "Epoch 21/100\n",
      "855/855 [==============================] - 4s 5ms/step - loss: 0.0108 - acc: 0.0737 - val_loss: 0.0026 - val_acc: 0.0312\n",
      "Epoch 22/100\n",
      "855/855 [==============================] - 4s 5ms/step - loss: 0.0108 - acc: 0.0702 - val_loss: 0.0029 - val_acc: 0.0312\n",
      "Epoch 23/100\n",
      "855/855 [==============================] - 4s 5ms/step - loss: 0.0101 - acc: 0.0854 - val_loss: 0.0053 - val_acc: 0.0312\n",
      "Epoch 24/100\n",
      "855/855 [==============================] - 4s 5ms/step - loss: 0.0098 - acc: 0.0690 - val_loss: 0.0030 - val_acc: 0.0312\n",
      "Epoch 25/100\n",
      "855/855 [==============================] - 4s 5ms/step - loss: 0.0092 - acc: 0.0947 - val_loss: 0.0043 - val_acc: 0.0208\n",
      "Epoch 26/100\n",
      "855/855 [==============================] - 4s 5ms/step - loss: 0.0090 - acc: 0.0713 - val_loss: 0.0035 - val_acc: 0.0312\n",
      "Epoch 27/100\n",
      "855/855 [==============================] - 4s 5ms/step - loss: 0.0090 - acc: 0.0842 - val_loss: 0.0037 - val_acc: 0.0312\n",
      "Epoch 28/100\n",
      "855/855 [==============================] - 4s 5ms/step - loss: 0.0091 - acc: 0.1088 - val_loss: 0.0043 - val_acc: 0.0312\n",
      "Epoch 29/100\n",
      "855/855 [==============================] - 4s 5ms/step - loss: 0.0085 - acc: 0.0877 - val_loss: 0.0083 - val_acc: 0.0312\n",
      "Epoch 30/100\n",
      "855/855 [==============================] - 4s 5ms/step - loss: 0.0083 - acc: 0.1018 - val_loss: 0.0058 - val_acc: 0.0417\n",
      "Epoch 31/100\n",
      "855/855 [==============================] - 4s 5ms/step - loss: 0.0085 - acc: 0.0784 - val_loss: 0.0060 - val_acc: 0.0417\n",
      "Epoch 32/100\n",
      "855/855 [==============================] - 4s 5ms/step - loss: 0.0093 - acc: 0.0924 - val_loss: 0.0126 - val_acc: 0.0208\n",
      "Epoch 33/100\n",
      "855/855 [==============================] - 4s 5ms/step - loss: 0.0084 - acc: 0.1099 - val_loss: 0.0076 - val_acc: 0.0417\n",
      "Epoch 34/100\n",
      "855/855 [==============================] - 4s 5ms/step - loss: 0.0082 - acc: 0.0971 - val_loss: 0.0050 - val_acc: 0.0417\n",
      "Epoch 35/100\n",
      "855/855 [==============================] - 4s 5ms/step - loss: 0.0078 - acc: 0.0971 - val_loss: 0.0044 - val_acc: 0.0521\n",
      "Epoch 36/100\n",
      "855/855 [==============================] - 4s 5ms/step - loss: 0.0083 - acc: 0.0842 - val_loss: 0.0057 - val_acc: 0.0833\n",
      "Epoch 37/100\n",
      "855/855 [==============================] - 4s 5ms/step - loss: 0.0081 - acc: 0.0807 - val_loss: 0.0032 - val_acc: 0.0521\n",
      "Epoch 38/100\n",
      "855/855 [==============================] - 4s 5ms/step - loss: 0.0087 - acc: 0.0947 - val_loss: 0.0037 - val_acc: 0.0208\n",
      "Epoch 39/100\n",
      "855/855 [==============================] - 4s 5ms/step - loss: 0.0082 - acc: 0.1053 - val_loss: 0.0058 - val_acc: 0.0417\n",
      "Epoch 40/100\n",
      "855/855 [==============================] - 4s 5ms/step - loss: 0.0081 - acc: 0.0819 - val_loss: 0.0107 - val_acc: 0.0417\n",
      "Epoch 41/100\n",
      "855/855 [==============================] - 4s 5ms/step - loss: 0.0078 - acc: 0.0877 - val_loss: 0.0055 - val_acc: 0.0208\n",
      "Epoch 42/100\n",
      "855/855 [==============================] - 4s 5ms/step - loss: 0.0077 - acc: 0.1041 - val_loss: 0.0058 - val_acc: 0.0312\n",
      "Epoch 43/100\n",
      "855/855 [==============================] - 4s 5ms/step - loss: 0.0077 - acc: 0.1029 - val_loss: 0.0057 - val_acc: 0.0521\n",
      "Epoch 44/100\n",
      "855/855 [==============================] - 4s 5ms/step - loss: 0.0073 - acc: 0.0982 - val_loss: 0.0050 - val_acc: 0.0208\n",
      "Epoch 45/100\n",
      "855/855 [==============================] - 4s 5ms/step - loss: 0.0071 - acc: 0.0924 - val_loss: 0.0078 - val_acc: 0.0521\n",
      "Epoch 46/100\n",
      "855/855 [==============================] - 4s 5ms/step - loss: 0.0075 - acc: 0.0959 - val_loss: 0.0089 - val_acc: 0.0104\n",
      "Epoch 47/100\n",
      "855/855 [==============================] - 4s 5ms/step - loss: 0.0075 - acc: 0.1088 - val_loss: 0.0067 - val_acc: 0.0312\n",
      "Epoch 48/100\n",
      "855/855 [==============================] - 4s 5ms/step - loss: 0.0068 - acc: 0.1053 - val_loss: 0.0093 - val_acc: 0.0312\n",
      "Epoch 49/100\n",
      "855/855 [==============================] - 4s 5ms/step - loss: 0.0074 - acc: 0.1064 - val_loss: 0.0112 - val_acc: 0.0417\n",
      "Epoch 50/100\n",
      "855/855 [==============================] - 4s 5ms/step - loss: 0.0072 - acc: 0.0971 - val_loss: 0.0080 - val_acc: 0.0208\n",
      "Epoch 51/100\n",
      "855/855 [==============================] - 4s 5ms/step - loss: 0.0072 - acc: 0.0924 - val_loss: 0.0069 - val_acc: 0.0312\n",
      "Epoch 52/100\n",
      "855/855 [==============================] - 4s 5ms/step - loss: 0.0067 - acc: 0.0971 - val_loss: 0.0036 - val_acc: 0.0208\n",
      "Epoch 53/100\n",
      "855/855 [==============================] - 4s 5ms/step - loss: 0.0069 - acc: 0.1076 - val_loss: 0.0067 - val_acc: 0.0312\n",
      "Epoch 54/100\n",
      "855/855 [==============================] - 4s 5ms/step - loss: 0.0066 - acc: 0.0760 - val_loss: 0.0044 - val_acc: 0.0312\n",
      "Epoch 55/100\n",
      "855/855 [==============================] - 4s 5ms/step - loss: 0.0067 - acc: 0.0865 - val_loss: 0.0098 - val_acc: 0.0417\n",
      "Epoch 56/100\n",
      "855/855 [==============================] - 4s 5ms/step - loss: 0.0067 - acc: 0.0924 - val_loss: 0.0071 - val_acc: 0.0208\n",
      "Epoch 57/100\n",
      "855/855 [==============================] - 4s 5ms/step - loss: 0.0074 - acc: 0.1064 - val_loss: 0.0100 - val_acc: 0.0312\n",
      "Epoch 58/100\n",
      "855/855 [==============================] - 4s 5ms/step - loss: 0.0068 - acc: 0.0947 - val_loss: 0.0056 - val_acc: 0.0312\n",
      "Epoch 59/100\n",
      "855/855 [==============================] - 4s 5ms/step - loss: 0.0070 - acc: 0.1216 - val_loss: 0.0060 - val_acc: 0.0208\n",
      "Epoch 60/100\n",
      "855/855 [==============================] - 4s 5ms/step - loss: 0.0069 - acc: 0.1064 - val_loss: 0.0092 - val_acc: 0.0104\n",
      "Epoch 61/100\n",
      "855/855 [==============================] - 4s 5ms/step - loss: 0.0070 - acc: 0.1135 - val_loss: 0.0077 - val_acc: 0.0208\n",
      "Epoch 62/100\n",
      "855/855 [==============================] - 4s 5ms/step - loss: 0.0068 - acc: 0.1006 - val_loss: 0.0055 - val_acc: 0.0208\n",
      "Epoch 63/100\n",
      "855/855 [==============================] - 4s 5ms/step - loss: 0.0067 - acc: 0.1205 - val_loss: 0.0091 - val_acc: 0.0312\n",
      "Epoch 64/100\n",
      "855/855 [==============================] - 4s 5ms/step - loss: 0.0069 - acc: 0.1123 - val_loss: 0.0084 - val_acc: 0.0312\n",
      "Epoch 65/100\n",
      "855/855 [==============================] - 4s 5ms/step - loss: 0.0063 - acc: 0.1029 - val_loss: 0.0074 - val_acc: 0.0312\n",
      "Epoch 66/100\n",
      "855/855 [==============================] - 4s 5ms/step - loss: 0.0063 - acc: 0.1006 - val_loss: 0.0066 - val_acc: 0.0208\n",
      "Epoch 67/100\n",
      "855/855 [==============================] - 4s 5ms/step - loss: 0.0059 - acc: 0.1135 - val_loss: 0.0072 - val_acc: 0.0208\n",
      "Epoch 68/100\n",
      "855/855 [==============================] - 4s 5ms/step - loss: 0.0060 - acc: 0.1029 - val_loss: 0.0058 - val_acc: 0.0417\n",
      "Epoch 69/100\n",
      "855/855 [==============================] - 4s 5ms/step - loss: 0.0065 - acc: 0.0889 - val_loss: 0.0066 - val_acc: 0.0208\n",
      "Epoch 70/100\n",
      "855/855 [==============================] - 4s 5ms/step - loss: 0.0063 - acc: 0.0854 - val_loss: 0.0071 - val_acc: 0.0417\n",
      "Epoch 71/100\n",
      "855/855 [==============================] - 5s 6ms/step - loss: 0.0064 - acc: 0.1053 - val_loss: 0.0055 - val_acc: 0.0208\n",
      "Epoch 72/100\n",
      "855/855 [==============================] - 5s 5ms/step - loss: 0.0061 - acc: 0.0959 - val_loss: 0.0073 - val_acc: 0.0938\n",
      "Epoch 73/100\n",
      "855/855 [==============================] - 4s 5ms/step - loss: 0.0068 - acc: 0.0901 - val_loss: 0.0050 - val_acc: 0.0417\n",
      "Epoch 74/100\n",
      "855/855 [==============================] - 4s 5ms/step - loss: 0.0063 - acc: 0.1357 - val_loss: 0.0084 - val_acc: 0.0417\n",
      "Epoch 75/100\n",
      "855/855 [==============================] - 4s 5ms/step - loss: 0.0064 - acc: 0.1205 - val_loss: 0.0103 - val_acc: 0.0312\n",
      "Epoch 76/100\n",
      "855/855 [==============================] - 4s 5ms/step - loss: 0.0061 - acc: 0.0971 - val_loss: 0.0093 - val_acc: 0.0104\n",
      "Epoch 77/100\n",
      "855/855 [==============================] - 4s 5ms/step - loss: 0.0065 - acc: 0.1006 - val_loss: 0.0070 - val_acc: 0.0208\n",
      "Epoch 78/100\n",
      "855/855 [==============================] - 4s 5ms/step - loss: 0.0060 - acc: 0.1135 - val_loss: 0.0092 - val_acc: 0.0312\n",
      "Epoch 79/100\n",
      "855/855 [==============================] - 4s 5ms/step - loss: 0.0060 - acc: 0.1111 - val_loss: 0.0080 - val_acc: 0.0104\n",
      "Epoch 80/100\n",
      "855/855 [==============================] - 4s 5ms/step - loss: 0.0059 - acc: 0.1053 - val_loss: 0.0069 - val_acc: 0.0104\n",
      "Epoch 81/100\n",
      "855/855 [==============================] - 4s 5ms/step - loss: 0.0061 - acc: 0.1029 - val_loss: 0.0066 - val_acc: 0.0104\n",
      "Epoch 82/100\n",
      "855/855 [==============================] - 4s 5ms/step - loss: 0.0062 - acc: 0.1123 - val_loss: 0.0045 - val_acc: 0.0104\n",
      "Epoch 83/100\n",
      "855/855 [==============================] - 4s 5ms/step - loss: 0.0066 - acc: 0.0994 - val_loss: 0.0062 - val_acc: 0.0625\n",
      "Epoch 84/100\n",
      "855/855 [==============================] - 4s 5ms/step - loss: 0.0057 - acc: 0.1006 - val_loss: 0.0073 - val_acc: 0.0104\n",
      "Epoch 85/100\n",
      "855/855 [==============================] - 4s 5ms/step - loss: 0.0060 - acc: 0.1018 - val_loss: 0.0103 - val_acc: 0.0104\n",
      "Epoch 86/100\n",
      "855/855 [==============================] - 4s 5ms/step - loss: 0.0058 - acc: 0.1263 - val_loss: 0.0104 - val_acc: 0.0625\n",
      "Epoch 87/100\n",
      "855/855 [==============================] - 4s 5ms/step - loss: 0.0059 - acc: 0.1053 - val_loss: 0.0078 - val_acc: 0.0104\n",
      "Epoch 88/100\n",
      "855/855 [==============================] - 4s 5ms/step - loss: 0.0061 - acc: 0.1135 - val_loss: 0.0072 - val_acc: 0.0312\n",
      "Epoch 89/100\n",
      "855/855 [==============================] - 4s 5ms/step - loss: 0.0057 - acc: 0.0959 - val_loss: 0.0064 - val_acc: 0.0104\n",
      "Epoch 90/100\n",
      "855/855 [==============================] - 4s 5ms/step - loss: 0.0054 - acc: 0.0959 - val_loss: 0.0080 - val_acc: 0.0104\n",
      "Epoch 91/100\n",
      "855/855 [==============================] - 4s 5ms/step - loss: 0.0058 - acc: 0.1076 - val_loss: 0.0059 - val_acc: 0.0312\n",
      "Epoch 92/100\n",
      "855/855 [==============================] - 4s 5ms/step - loss: 0.0058 - acc: 0.1029 - val_loss: 0.0122 - val_acc: 0.0312\n",
      "Epoch 93/100\n",
      "855/855 [==============================] - 4s 5ms/step - loss: 0.0055 - acc: 0.1041 - val_loss: 0.0066 - val_acc: 0.0312\n",
      "Epoch 94/100\n",
      "855/855 [==============================] - 4s 5ms/step - loss: 0.0057 - acc: 0.1099 - val_loss: 0.0064 - val_acc: 0.0104\n",
      "Epoch 95/100\n",
      "855/855 [==============================] - 4s 5ms/step - loss: 0.0060 - acc: 0.0994 - val_loss: 0.0089 - val_acc: 0.0104\n",
      "Epoch 96/100\n",
      "855/855 [==============================] - 4s 5ms/step - loss: 0.0054 - acc: 0.1041 - val_loss: 0.0091 - val_acc: 0.0104\n",
      "Epoch 97/100\n",
      "855/855 [==============================] - 4s 5ms/step - loss: 0.0056 - acc: 0.1006 - val_loss: 0.0081 - val_acc: 0.0104\n",
      "Epoch 98/100\n",
      "855/855 [==============================] - 4s 5ms/step - loss: 0.0055 - acc: 0.0877 - val_loss: 0.0074 - val_acc: 0.0104\n",
      "Epoch 99/100\n",
      "855/855 [==============================] - 4s 5ms/step - loss: 0.0055 - acc: 0.1181 - val_loss: 0.0090 - val_acc: 0.0104\n",
      "Epoch 100/100\n",
      "855/855 [==============================] - 4s 5ms/step - loss: 0.0056 - acc: 0.1111 - val_loss: 0.0074 - val_acc: 0.0104\n"
     ]
    }
   ],
   "source": [
    "res= model.fit(x,y, epochs=100, batch_size= 32,validation_split=0.1)"
   ]
  },
  {
   "cell_type": "markdown",
   "metadata": {
    "colab_type": "text",
    "id": "WiH2dpWkevj0"
   },
   "source": [
    "### Visualize the accuracy and loss"
   ]
  },
  {
   "cell_type": "code",
   "execution_count": 16,
   "metadata": {
    "colab": {
     "base_uri": "https://localhost:8080/",
     "height": 578
    },
    "colab_type": "code",
    "id": "8VK92zljevj2",
    "outputId": "2e75e0c4-9224-4095-f39c-3ca7729b8839"
   },
   "outputs": [
    {
     "data": {
      "image/png": "[encoded data removed]",
      "text/plain": [
       "<Figure size 864x288 with 1 Axes>"
      ]
     },
     "metadata": {
      "tags": []
     },
     "output_type": "display_data"
    },
    {
     "ename": "KeyError",
     "evalue": "ignored",
     "output_type": "error",
     "traceback": [
      "\u001b[0;31m---------------------------------------------------------------------------\u001b[0m",
      "\u001b[0;31mKeyError\u001b[0m                                  Traceback (most recent call last)",
      "\u001b[0;32m<ipython-input-16-de151261aec1>\u001b[0m in \u001b[0;36m<module>\u001b[0;34m()\u001b[0m\n\u001b[0;32m----> 1\u001b[0;31m \u001b[0mvisualize_training_results\u001b[0m\u001b[0;34m(\u001b[0m\u001b[0mres\u001b[0m\u001b[0;34m)\u001b[0m\u001b[0;34m\u001b[0m\u001b[0;34m\u001b[0m\u001b[0m\n\u001b[0m",
      "\u001b[0;32m<ipython-input-7-c1d944483f5e>\u001b[0m in \u001b[0;36mvisualize_training_results\u001b[0;34m(results)\u001b[0m\n\u001b[1;32m     11\u001b[0m \u001b[0;34m\u001b[0m\u001b[0m\n\u001b[1;32m     12\u001b[0m     \u001b[0mplt\u001b[0m\u001b[0;34m.\u001b[0m\u001b[0mfigure\u001b[0m\u001b[0;34m(\u001b[0m\u001b[0mfigsize\u001b[0m\u001b[0;34m=\u001b[0m\u001b[0;34m(\u001b[0m\u001b[0;36m12\u001b[0m\u001b[0;34m,\u001b[0m\u001b[0;36m4\u001b[0m\u001b[0;34m)\u001b[0m\u001b[0;34m)\u001b[0m\u001b[0;34m\u001b[0m\u001b[0;34m\u001b[0m\u001b[0m\n\u001b[0;32m---> 13\u001b[0;31m     \u001b[0mplt\u001b[0m\u001b[0;34m.\u001b[0m\u001b[0mplot\u001b[0m\u001b[0;34m(\u001b[0m\u001b[0mhistory\u001b[0m\u001b[0;34m[\u001b[0m\u001b[0;34m'val_accuracy'\u001b[0m\u001b[0;34m]\u001b[0m\u001b[0;34m)\u001b[0m\u001b[0;34m\u001b[0m\u001b[0;34m\u001b[0m\u001b[0m\n\u001b[0m\u001b[1;32m     14\u001b[0m     \u001b[0mplt\u001b[0m\u001b[0;34m.\u001b[0m\u001b[0mplot\u001b[0m\u001b[0;34m(\u001b[0m\u001b[0mhistory\u001b[0m\u001b[0;34m[\u001b[0m\u001b[0;34m'accuracy'\u001b[0m\u001b[0;34m]\u001b[0m\u001b[0;34m)\u001b[0m\u001b[0;34m\u001b[0m\u001b[0;34m\u001b[0m\u001b[0m\n\u001b[1;32m     15\u001b[0m     \u001b[0mplt\u001b[0m\u001b[0;34m.\u001b[0m\u001b[0mlegend\u001b[0m\u001b[0;34m(\u001b[0m\u001b[0;34m[\u001b[0m\u001b[0;34m'val_accuracy'\u001b[0m\u001b[0;34m,\u001b[0m\u001b[0;34m'accuracy'\u001b[0m\u001b[0;34m]\u001b[0m\u001b[0;34m)\u001b[0m\u001b[0;34m\u001b[0m\u001b[0;34m\u001b[0m\u001b[0m\n",
      "\u001b[0;31mKeyError\u001b[0m: 'val_accuracy'"
     ]
    },
    {
     "data": {
      "text/plain": [
       "<Figure size 864x288 with 0 Axes>"
      ]
     },
     "metadata": {
      "tags": []
     },
     "output_type": "display_data"
    }
   ],
   "source": [
    "visualize_training_results(res)"
   ]
  },
  {
   "cell_type": "markdown",
   "metadata": {
    "colab_type": "text",
    "id": "GFN0lqh5evj6"
   },
   "source": [
    "## Visualizing the predictions"
   ]
  },
  {
   "cell_type": "code",
   "execution_count": 19,
   "metadata": {
    "colab": {
     "base_uri": "https://localhost:8080/",
     "height": 458
    },
    "colab_type": "code",
    "id": "wWUOBj5Yevj7",
    "outputId": "b538efb5-901c-482e-bdb3-73e5f1d13e51",
    "scrolled": true
   },
   "outputs": [
    {
     "name": "stdout",
     "output_type": "stream",
     "text": [
      "Predicted Prices:\n",
      " [[7617.219263660089], [7909.460879752283], [7274.749795198069], [7568.550677820713], [7390.153218532569], [7302.087570650691], [7587.5058054304955], [7330.861265192725], [7335.386401583504], [7496.436675015684], [7598.071094539442], [7507.4599537263375], [7710.565620150056], [7739.505252953577], [7678.017383286708], [7524.571507250988], [7707.70207888431], [7584.558741906468], [7959.777785655776], [8014.919069948264]]\n",
      "\n",
      "Actual Prices:\n",
      " [[8808.262695], [8708.094727], [8491.992188], [8550.760742], [8577.975586], [8309.286133], [8206.145508], [8027.268066], [7642.75], [7296.577637], [7397.796875], [7047.9169919999995], [7146.133789], [7218.371094], [7531.663573999999], [7463.105956999999], [7761.243651999999], [7569.629883], [7424.29248], [7321.988281]]\n"
     ]
    },
    {
     "data": {
      "image/png": "[encoded data removed]",
      "text/plain": [
       "<Figure size 864x360 with 1 Axes>"
      ]
     },
     "metadata": {
      "tags": []
     },
     "output_type": "display_data"
    },
    {
     "name": "stdout",
     "output_type": "stream",
     "text": [
      "The  Mean Squared Error:  478346.93974497\n"
     ]
    }
   ],
   "source": [
    "plt.figure(figsize=(12,5))\n",
    "\n",
    "# Getting predictions by predicting from the last available X variable\n",
    "yhat = model.predict(x[-1].reshape(1, look_back, n_features)).tolist()[0]\n",
    "\n",
    "# Transforming values back to their normal prices\n",
    "yhat = sc.inverse_transform(np.array(yhat).reshape(-1,1)).tolist()\n",
    "\n",
    "# Getting the actual values from the last available y variable which correspond to its respective X variable\n",
    "actual = sc.inverse_transform(y[-1].reshape(-1,1))\n",
    "\n",
    "# Printing and plotting those predictions\n",
    "print(\"Predicted Prices:\\n\", yhat)\n",
    "plt.plot(yhat, label='Predicted')\n",
    "\n",
    "# Printing and plotting the actual values\n",
    "print(\"\\nActual Prices:\\n\", actual.tolist())\n",
    "plt.plot(actual.tolist(), label='Actual')\n",
    "\n",
    "plt.title(f\"Predicted vs Actual Closing Prices\")\n",
    "plt.ylabel(\"Price\")\n",
    "plt.legend()\n",
    "plt.savefig(\"BTC_validation.png\")\n",
    "plt.show()\n",
    "\n",
    "MSE = np.square(np.subtract(actual,yhat)).mean() \n",
    "print(\"The  Mean Squared Error: \", MSE)"
   ]
  },
  {
   "cell_type": "markdown",
   "metadata": {
    "colab_type": "text",
    "id": "Er6_v75vevj-"
   },
   "source": [
    "### Predicting the future prices"
   ]
  },
  {
   "cell_type": "code",
   "execution_count": 18,
   "metadata": {
    "colab": {
     "base_uri": "https://localhost:8080/",
     "height": 760
    },
    "colab_type": "code",
    "id": "ds_rkTP9evkA",
    "outputId": "b196ed82-88b3-4584-b661-40fad1f381b3"
   },
   "outputs": [
    {
     "name": "stdout",
     "output_type": "stream",
     "text": [
      "                  Close\n",
      "2019-12-02  6613.736390\n",
      "2019-12-03  6953.105025\n",
      "2019-12-04  6378.163796\n",
      "2019-12-05  6677.598836\n",
      "2019-12-06  6482.668395\n",
      "2019-12-07  6493.255809\n",
      "2019-12-08  6601.419899\n",
      "2019-12-09  6556.048506\n",
      "2019-12-10  6491.459804\n",
      "2019-12-11  6727.066138\n",
      "2019-12-12  6602.533345\n",
      "2019-12-13  6797.789025\n",
      "2019-12-14  6737.161269\n",
      "2019-12-15  6840.885404\n",
      "2019-12-16  6751.736733\n",
      "2019-12-17  6828.737617\n",
      "2019-12-18  6896.387328\n",
      "2019-12-19  6889.739841\n",
      "2019-12-20  6988.938840\n",
      "2019-12-21  6955.783269\n"
     ]
    },
    {
     "data": {
      "image/png": "[encoded data removed]",
      "text/plain": [
       "<Figure size 1152x432 with 1 Axes>"
      ]
     },
     "metadata": {
      "tags": []
     },
     "output_type": "display_data"
    }
   ],
   "source": [
    "# Predicting off of y because it contains the most recent dates\n",
    "yhat = model.predict(np.array(df.tail(look_back)).reshape(1, look_back, n_features)).tolist()[0]\n",
    "\n",
    "# Transforming the predicted values back to their original prices\n",
    "yhat = sc.inverse_transform(np.array(yhat).reshape(-1,1)).tolist()\n",
    "\n",
    "# Creating a DF of the predicted prices\n",
    "preds = pd.DataFrame(yhat, index=pd.date_range(start=df.index[-1], periods=len(yhat), freq=\"D\"), columns=df.columns)\n",
    "\n",
    "# Printing the predicted prices\n",
    "print(preds)\n",
    "\n",
    "# Number of periods back to visualize the actual values\n",
    "pers = 10\n",
    "\n",
    "# Transforming the actual values to their original price\n",
    "actual = pd.DataFrame(sc.inverse_transform(df[[\"Close\"]].tail(pers)), index=df.Close.tail(pers).index, columns=df.columns).append(preds.head(1))\n",
    "\n",
    "# Plotting\n",
    "plt.figure(figsize=(16,6))\n",
    "plt.plot(actual, label=\"Actual Prices\")\n",
    "plt.plot(preds, label=\"Predicted Prices\")\n",
    "plt.ylabel(\"Price\")\n",
    "plt.xlabel(\"Dates\")\n",
    "plt.title(f\"Forecasting the next {len(yhat)} days\")\n",
    "plt.legend()\n",
    "plt.savefig(\"BTC_predictions.png\")\n",
    "plt.show()"
   ]
  },
  {
   "cell_type": "markdown",
   "metadata": {
    "colab": {},
    "colab_type": "code",
    "id": "OTgOuZKDevkC"
   },
   "source": [
    "### MSE LSTM"
   ]
  },
  {
   "cell_type": "code",
   "execution_count": null,
   "metadata": {},
   "outputs": [],
   "source": [
    "MSE = np.square(np.subtract(actual,yhat)).mean() \n",
    "print(\"The  Mean Squared Error: \", MSE)"
   ]
  },
  {
   "cell_type": "markdown",
   "metadata": {},
   "source": [
    "The  Mean Squared Error:  478346.93974497"
   ]
  },
  {
   "cell_type": "code",
   "execution_count": null,
   "metadata": {},
   "outputs": [],
   "source": []
  }
 ],
 "metadata": {
  "colab": {
   "name": "Bitcoin Prediction_RNN_LSTM.ipynb",
   "provenance": []
  },
  "kernelspec": {
   "display_name": "Python 3",
   "language": "python",
   "name": "python3"
  },
  "language_info": {
   "codemirror_mode": {
    "name": "ipython",
    "version": 3
   },
   "file_extension": ".py",
   "mimetype": "text/x-python",
   "name": "python",
   "nbconvert_exporter": "python",
   "pygments_lexer": "ipython3",
   "version": "3.7.3"
  }
 },
 "nbformat": 4,
 "nbformat_minor": 1
}
